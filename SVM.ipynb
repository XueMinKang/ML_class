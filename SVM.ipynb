{
 "cells": [
  {
   "cell_type": "code",
   "execution_count": 89,
   "id": "a76359c9-d246-43f2-b2ef-c5c38b84da29",
   "metadata": {},
   "outputs": [],
   "source": [
    "import numpy as np\n",
    "from qpsolvers import solve_qp  \n",
    "import pandas as pd\n",
    "from sklearn.metrics import accuracy_score\n",
    "class CustomSVM:\n",
    "    def __init__(self, C=1.0, kernel='linear', degree=1, gamma='auto'):\n",
    "        self.C = C\n",
    "        self.kernel = kernel\n",
    "        self.degree = degree\n",
    "        self.gamma = gamma\n",
    "        self.kernel_function = None\n",
    "        \n",
    "    def _linear_kernel(self, X1, X2):\n",
    "        return np.dot(X1, X2.T)\n",
    "\n",
    "    def _rbf_kernel(self, X1, X2, sigma=5.0):\n",
    "        diff = X1[:, np.newaxis] - X2  \n",
    "        norm = np.linalg.norm(diff, axis=2) \n",
    "        gamma = 1 / (2 * sigma**2)\n",
    "        return np.exp(-gamma * norm ** 2)\n",
    "    \n",
    "    def _poly_kernel(self, X1, X2):\n",
    "        return (np.dot(X1, X2.T) ) ** self.degree\n",
    "\n",
    "    def fit(self, X, y):\n",
    "        n_samples, n_features = X.shape\n",
    "        self.X = X\n",
    "        self.y = y\n",
    "\n",
    "        if self.kernel == 'linear':\n",
    "            self.kernel_function = self._linear_kernel\n",
    "        elif self.kernel == 'rbf':\n",
    "            self.kernel_function = self._rbf_kernel\n",
    "        elif self.kernel == 'poly':\n",
    "            self.kernel_function = self._poly_kernel\n",
    "        else:\n",
    "            raise ValueError(\"Invalid kernel type.\")\n",
    "\n",
    "        self.Gram = self.kernel_function(X, X)\n",
    "\n",
    "        P = np.outer(y, y) * self.Gram\n",
    "        q = -np.ones(n_samples)\n",
    "        G = np.vstack((-np.eye(n_samples), np.eye(n_samples)))\n",
    "        h = np.hstack((np.zeros(n_samples), np.ones(n_samples) * self.C))\n",
    "        Aeq = y.reshape(1, -1)\n",
    "        beq = np.array([0.0])\n",
    "        lb = np.zeros(n_samples)\n",
    "        ub = self.C * np.ones(n_samples)\n",
    "\n",
    "        alpha = solve_qp(P, q, G, h, Aeq, beq, lb, ub, solver='clarabel')\n",
    "        \n",
    "        eps = 2.2204e-16\n",
    "        for i in range(alpha.size):\n",
    "            if alpha[i] >= self.C - np.sqrt(eps):\n",
    "                alpha[i] = self.C\n",
    "                alpha[i] = np.round(alpha[i], 6)\n",
    "            elif alpha[i] <= 0 + np.sqrt(eps):\n",
    "                alpha[i] = 0\n",
    "                alpha[i] = np.round(alpha[i], 6)\n",
    "            else:\n",
    "                alpha[i] = np.round(alpha[i], 6)\n",
    "                print(f\"support vector: alpha = {alpha[i]}\")\n",
    "\n",
    "        support_vector_indices = np.where(alpha > 0)[0]\n",
    "        self.support_vectors = X[support_vector_indices]\n",
    "        self.support_vector_labels = y[support_vector_indices]\n",
    "\n",
    "        bias = np.mean(self.support_vector_labels - np.dot(self.Gram[support_vector_indices][:, support_vector_indices], alpha[support_vector_indices] * self.support_vector_labels))\n",
    "        self.alpha = alpha\n",
    "        self.bias = bias\n",
    "\n",
    "    def predict(self, X):\n",
    "        n_samples = X.shape[0]  #樣本數\n",
    "        decision_function = np.zeros(n_samples)  # 初始化决\n",
    "\n",
    "        # 篩選支持向量\n",
    "        support_vector_indices = np.where(self.alpha > 0)[0]\n",
    "        support_vectors = self.support_vectors\n",
    "        support_vector_labels = self.support_vector_labels\n",
    "\n",
    "        # 计算结果\n",
    "        for i in range(n_samples):\n",
    "            decision_function[i] = np.sum(\n",
    "                self.alpha[support_vector_indices] * support_vector_labels *\n",
    "                self.kernel_function(X[i, :], support_vectors)\n",
    "            ) + self.bias\n",
    "\n",
    "        return np.sign(decision_function)\n"
   ]
  },
  {
   "cell_type": "code",
   "execution_count": 90,
   "id": "d6b857f9-5354-43dd-9a30-3af6f3a3a338",
   "metadata": {},
   "outputs": [],
   "source": [
    "x_head = pd.read_csv('iris_head_23.txt', delim_whitespace=True)\n",
    "x_tail = pd.read_csv('iris_tail_23.txt', delim_whitespace=True)\n",
    "# 將標籤值替換為1 -1\n",
    "x_head['species'] = x_head['species'].replace({2: -1, 3: 1})\n",
    "x_tail['species'] = x_tail['species'].replace({2: -1, 3: 1})\n",
    "\n",
    "y_head = x_head['species'].values\n",
    "y_tail = x_tail['species'].values\n",
    "columns_to_drop = [\"species\",\"Sepal_length\",\"Sepal_width\"]\n",
    "x_head = x_head.drop(columns_to_drop, axis=1).values\n",
    "x_tail = x_tail.drop(columns_to_drop, axis=1).values"
   ]
  },
  {
   "cell_type": "code",
   "execution_count": 91,
   "id": "8acd5fb0-edee-4e94-8092-47dfdd882d4f",
   "metadata": {},
   "outputs": [
    {
     "name": "stdout",
     "output_type": "stream",
     "text": [
      "support vector: alpha = 0.066667\n",
      "support vector: alpha = 0.066667\n",
      "support vector: alpha = 0.066667\n",
      "support vector: alpha = 0.2\n",
      "support vector: alpha = 0.0\n",
      "Alpha (Lagrange Multipliers): [1.       0.066667 1.       0.       1.       0.       1.       0.\n",
      " 0.       0.       0.       0.       0.       1.       0.       0.\n",
      " 0.066667 0.       0.066667 0.       1.       0.       1.       0.\n",
      " 0.       0.       1.       0.       0.       0.       0.       1.\n",
      " 0.       0.       0.       1.       0.2      0.       1.       0.\n",
      " 0.       0.       0.       0.       1.       0.       1.       0.\n",
      " 1.       0.      ]\n",
      "Bias (Intercept): -10.454198072222216\n"
     ]
    },
    {
     "name": "stderr",
     "output_type": "stream",
     "text": [
      "C:\\Users\\a567896666\\.conda\\envs\\py39\\lib\\site-packages\\qpsolvers\\conversions\\ensure_sparse_matrices.py:38: UserWarning: Converted P to scipy.sparse.csc.csc_matrix\n",
      "For best performance, build P as a scipy.sparse.csc_matrix rather than as a numpy.ndarray\n",
      "  warnings.warn(\n",
      "C:\\Users\\a567896666\\.conda\\envs\\py39\\lib\\site-packages\\qpsolvers\\conversions\\ensure_sparse_matrices.py:38: UserWarning: Converted G to scipy.sparse.csc.csc_matrix\n",
      "For best performance, build G as a scipy.sparse.csc_matrix rather than as a numpy.ndarray\n",
      "  warnings.warn(\n",
      "C:\\Users\\a567896666\\.conda\\envs\\py39\\lib\\site-packages\\qpsolvers\\conversions\\ensure_sparse_matrices.py:38: UserWarning: Converted A to scipy.sparse.csc.csc_matrix\n",
      "For best performance, build A as a scipy.sparse.csc_matrix rather than as a numpy.ndarray\n",
      "  warnings.warn(\n"
     ]
    }
   ],
   "source": [
    "#train\n",
    "svm_linear = CustomSVM(C=1, kernel='linear')\n",
    "\n",
    "svm_linear.fit(x_head, y_head)\n",
    "print(\"Alpha (Lagrange Multipliers):\", svm_linear.alpha)\n",
    "print(\"Bias (Intercept):\", svm_linear.bias)\n"
   ]
  },
  {
   "cell_type": "code",
   "execution_count": 92,
   "id": "664ed0f4-f2bc-4bc1-98c8-ee9ec28c78b8",
   "metadata": {},
   "outputs": [
    {
     "name": "stdout",
     "output_type": "stream",
     "text": [
      "Accuracy: 0.94\n"
     ]
    }
   ],
   "source": [
    "y_pred = svm_linear.predict(x_tail)\n",
    "from sklearn.metrics import accuracy_score, confusion_matrix\n",
    "\n",
    "accuracy = accuracy_score(y_tail, y_pred)\n",
    "\n",
    "print(f\"Accuracy: {accuracy}\")\n"
   ]
  },
  {
   "cell_type": "code",
   "execution_count": null,
   "id": "65311444-6142-4696-af3b-31ac0065ca93",
   "metadata": {},
   "outputs": [],
   "source": []
  }
 ],
 "metadata": {
  "kernelspec": {
   "display_name": "Python 3 (ipykernel)",
   "language": "python",
   "name": "python3"
  },
  "language_info": {
   "codemirror_mode": {
    "name": "ipython",
    "version": 3
   },
   "file_extension": ".py",
   "mimetype": "text/x-python",
   "name": "python",
   "nbconvert_exporter": "python",
   "pygments_lexer": "ipython3",
   "version": "3.9.17"
  }
 },
 "nbformat": 4,
 "nbformat_minor": 5
}
