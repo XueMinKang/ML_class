{
 "cells": [
  {
   "cell_type": "code",
   "execution_count": 178,
   "id": "a571f6e9-84c8-40fc-b78e-6368c899bb69",
   "metadata": {},
   "outputs": [],
   "source": [
    "import numpy as np\n",
    "from sklearn.metrics import accuracy_score\n",
    "from sklearn.datasets import load_iris\n",
    "import pandas as pd\n",
    "import matplotlib.pyplot as plt\n",
    "import seaborn as sns"
   ]
  },
  {
   "cell_type": "code",
   "execution_count": 179,
   "id": "4c74c67d-1782-40af-b550-09846b3eb608",
   "metadata": {},
   "outputs": [],
   "source": [
    "class CustomLDA:\n",
    "    def __init__(self, class_weight_ratio=1.0):\n",
    "        self.W = None\n",
    "        self.B = None\n",
    "        self.class_weight_ratio = class_weight_ratio\n",
    "\n",
    "    def fit(self, X, y):\n",
    "        n_samples, n_features = X.shape\n",
    "\n",
    "        # 均值向量\n",
    "        mean_class1 = np.mean(X[y == 1], axis=0)\n",
    "        mean_class2 = np.mean(X[y == 2], axis=0)\n",
    "\n",
    "        # 矩陣\n",
    "        S1 = np.dot((X[y == 1] - mean_class1).T, X[y == 1] - mean_class1)\n",
    "        S2 = np.dot((X[y == 2] - mean_class2).T, X[y == 2] - mean_class2)\n",
    "        \n",
    "        # 權重\n",
    "        S1 *= self.class_weight_ratio\n",
    "        within_class_scatter = S1 + S2\n",
    "        self.W = np.dot(np.linalg.inv(within_class_scatter), (mean_class1 - mean_class2))\n",
    "\n",
    "        self.B = -0.5 * np.dot(mean_class1, np.dot(np.linalg.inv(within_class_scatter), mean_class1)) + 0.5 * np.dot(mean_class2, np.dot(np.linalg.inv(within_class_scatter), mean_class2))\n",
    "\n",
    "    def predict(self, X):\n",
    "        if self.W is None or self.B is None:\n",
    "            raise ValueError(\"The model has not been trained yet.\")\n",
    "        scores = np.dot(X, self.W) + self.B\n",
    "        predictions = np.where(scores >= 0, 1, 2)\n",
    "        return predictions\n",
    "\n",
    "    def get_weights(self):\n",
    "        return self.W\n",
    "\n",
    "    def get_bias(self):\n",
    "        return self.B"
   ]
  },
  {
   "cell_type": "code",
   "execution_count": 180,
   "id": "639ae137-feca-41b8-ad07-9b9cc096b656",
   "metadata": {},
   "outputs": [],
   "source": [
    "data_head = pd.read_csv('iris_head_23.txt', delim_whitespace=True)\n",
    "data_tail = pd.read_csv('iris_tail_23.txt', delim_whitespace=True)\n",
    "\n",
    "# 將標籤值3替換為1\n",
    "data_head['species'] = data_head['species'].replace({2: 2, 3: 1})\n",
    "data_tail['species'] = data_tail['species'].replace({2: 2, 3: 1})\n",
    "\n",
    "y_head = data_head['species'].values\n",
    "y_tail = data_tail['species'].values\n",
    "\n",
    "columns_to_drop = [\"species\"]\n",
    "\n",
    "x_head = data_head.drop(columns_to_drop, axis=1).values\n",
    "x_tail = data_tail.drop(columns_to_drop, axis=1).values"
   ]
  },
  {
   "cell_type": "code",
   "execution_count": 181,
   "id": "730177c7-782d-492c-b7da-92f32cec2834",
   "metadata": {},
   "outputs": [
    {
     "name": "stdout",
     "output_type": "stream",
     "text": [
      "分類率: 94.00%\n",
      "權重 (weights): [-0.1034507  -0.13529314  0.16974041  0.30764244]\n",
      "偏差 (bias): -0.32879987003848044\n"
     ]
    }
   ],
   "source": [
    "# LDA分類器\n",
    "lda_classifier = CustomLDA(class_weight_ratio=1)\n",
    "lda_classifier.fit(x_head, y_head)\n",
    "predictions = lda_classifier.predict(x_tail)\n",
    "\n",
    "# 分類率\n",
    "classification_rate = np.mean(predictions == y_head) * 100\n",
    "\n",
    "# w and b\n",
    "weights = lda_classifier.get_weights()\n",
    "bias = lda_classifier.get_bias()\n",
    "\n",
    "print(f\"分類率: {classification_rate:.2f}%\")\n",
    "print(f\"權重 (weights): {weights}\")\n",
    "print(f\"偏差 (bias): {bias}\")"
   ]
  },
  {
   "cell_type": "code",
   "execution_count": 183,
   "id": "5b7c5f2a-1518-48ba-a3c6-d16d4f590ade",
   "metadata": {},
   "outputs": [
    {
     "data": {
      "image/png": "[encoded data removed]",
      "text/plain": [
       "<Figure size 800x600 with 1 Axes>"
      ]
     },
     "metadata": {},
     "output_type": "display_data"
    },
    {
     "name": "stdout",
     "output_type": "stream",
     "text": [
      "AUC: 0.9400000000000001\n"
     ]
    }
   ],
   "source": [
    "from sklearn.metrics import roc_curve, roc_auc_score\n",
    "\n",
    "predictions = lda_classifier.predict(x_tail)\n",
    "\n",
    "# ROC\n",
    "fpr, tpr, thresholds = roc_curve(y_tail, predictions, pos_label=1)\n",
    "\n",
    "import matplotlib.pyplot as plt\n",
    "plt.figure(figsize=(8, 6))\n",
    "plt.plot(tpr, fpr, linewidth=2, label='ROC Curve')\n",
    "plt.xlabel('True Positive Rate')\n",
    "plt.ylabel('False Positive Rate')\n",
    "plt.title('ROC Curve')\n",
    "plt.legend()\n",
    "plt.grid()\n",
    "plt.show()\n",
    "\n",
    "auc = roc_auc_score(y_head, predictions)\n",
    "print('AUC:', auc)\n"
   ]
  },
  {
   "cell_type": "code",
   "execution_count": null,
   "id": "2fd55e90-4766-498d-92ab-a410c94e487c",
   "metadata": {},
   "outputs": [],
   "source": []
  }
 ],
 "metadata": {
  "kernelspec": {
   "display_name": "Python 3 (ipykernel)",
   "language": "python",
   "name": "python3"
  },
  "language_info": {
   "codemirror_mode": {
    "name": "ipython",
    "version": 3
   },
   "file_extension": ".py",
   "mimetype": "text/x-python",
   "name": "python",
   "nbconvert_exporter": "python",
   "pygments_lexer": "ipython3",
   "version": "3.9.17"
  }
 },
 "nbformat": 4,
 "nbformat_minor": 5
}
